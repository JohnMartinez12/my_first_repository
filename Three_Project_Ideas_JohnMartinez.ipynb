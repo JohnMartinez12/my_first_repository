{
 "cells": [
  {
   "cell_type": "markdown",
   "metadata": {},
   "source": [
    "## Three Project Ideas\n",
    "#### John Martinez, jzm218"
   ]
  },
  {
   "cell_type": "markdown",
   "metadata": {},
   "source": [
    "### 1. The LEGO Database\n",
    "\n",
    "(Preferred) [This](https://www.kaggle.com/rtatman/lego-database/data) dataset contains multiple csvs containing information on every official LEGO set ever released. I would have to join these csvs on certain columns to get a single, proper DataFrame, and with it, I would then analyze how LEGO sets have evolved over time in terms of theme, size, color, and parts. Have they gotten bigger, what certain themes have grown and/or died?"
   ]
  },
  {
   "cell_type": "markdown",
   "metadata": {},
   "source": [
    "### 2. Where it pays to Attend College\n",
    "\n",
    "In this project, I would use the Wall Street Journal dataset of degrees that pay back, salaries by region and salaries by major, found [here](https://www.kaggle.com/wsj/college-salaries/data). In exploring this dataset I would trh to understand how major, school and regeion factor into the return for studing that major in that school and region. Did I make a relatively good choice in studing CS at NYU in New York?\n"
   ]
  },
  {
   "cell_type": "markdown",
   "metadata": {},
   "source": [
    "### 3. Las Vegas Restaurants\n",
    "\n",
    "For this project, I would use the Yelp dataset of Las Vegas restaurant reviews, found [here](https://drive.google.com/file/d/1jl53TRUKjAr0-o-_IeSzu3hRLowlJ90a/view). I would have to manipulate the dataset from json to csv to DataFrame, and to use visualization to answer questions like: Do Las Vegas Restaurants get consistently good/bad ratings, how do ratings distribute and evolve over time, are there dramatic changes, and how reliable are ratings at any given time for a restaurant (based on the number of reviews)? "
   ]
  }
 ],
 "metadata": {
  "kernelspec": {
   "display_name": "Python 3",
   "language": "python",
   "name": "python3"
  },
  "language_info": {
   "codemirror_mode": {
    "name": "ipython",
    "version": 3
   },
   "file_extension": ".py",
   "mimetype": "text/x-python",
   "name": "python",
   "nbconvert_exporter": "python",
   "pygments_lexer": "ipython3",
   "version": "3.6.4"
  }
 },
 "nbformat": 4,
 "nbformat_minor": 2
}
